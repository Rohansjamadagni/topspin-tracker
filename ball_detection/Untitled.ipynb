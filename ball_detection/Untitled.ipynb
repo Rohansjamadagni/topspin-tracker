{
 "cells": [
  {
   "cell_type": "code",
   "execution_count": 4,
   "id": "0ea5a868",
   "metadata": {},
   "outputs": [],
   "source": [
    "import pandas as pd\n",
    "import numpy as np"
   ]
  },
  {
   "cell_type": "code",
   "execution_count": 5,
   "id": "5de22377",
   "metadata": {},
   "outputs": [],
   "source": [
    "asd = pd.read_csv('result.csv')"
   ]
  },
  {
   "cell_type": "code",
   "execution_count": 27,
   "id": "5e44fe11",
   "metadata": {},
   "outputs": [],
   "source": [
    "result = pd.read_csv('result.csv')\n",
    "# single_stroke_numbers = np.unique(stroke_number)\n",
    "left_bounces = result.groupby(\"stroke_number\").first().reset_index()\n",
    "right_bounces = result.groupby(\"stroke_number\").last().reset_index()"
   ]
  },
  {
   "cell_type": "code",
   "execution_count": 60,
   "id": "037124e9",
   "metadata": {},
   "outputs": [
    {
     "name": "stdout",
     "output_type": "stream",
     "text": [
      "stroke_number    1.000000e+00\n",
      "frame_number     2.200000e+01\n",
      "x               -3.470000e+02\n",
      "y                3.900000e+02\n",
      "z                9.080000e+02\n",
      "confidence       5.331602e-01\n",
      "timestamp        1.624388e+09\n",
      "Name: 0, dtype: float64\n"
     ]
    }
   ],
   "source": [
    "for bounces in zip(left_bounces.iterrows(), right_bounces.iterrows()):\n",
    "    left, right = bounces[0][1], bounces[1][1]\n",
    "#     print(left['x'])\n",
    "    print(left)\n",
    "    break"
   ]
  },
  {
   "cell_type": "code",
   "execution_count": 58,
   "id": "9e6434ac",
   "metadata": {},
   "outputs": [
    {
     "data": {
      "text/html": [
       "<div>\n",
       "<style scoped>\n",
       "    .dataframe tbody tr th:only-of-type {\n",
       "        vertical-align: middle;\n",
       "    }\n",
       "\n",
       "    .dataframe tbody tr th {\n",
       "        vertical-align: top;\n",
       "    }\n",
       "\n",
       "    .dataframe thead th {\n",
       "        text-align: right;\n",
       "    }\n",
       "</style>\n",
       "<table border=\"1\" class=\"dataframe\">\n",
       "  <thead>\n",
       "    <tr style=\"text-align: right;\">\n",
       "      <th></th>\n",
       "      <th>stroke_number</th>\n",
       "      <th>frame_number</th>\n",
       "      <th>x</th>\n",
       "      <th>y</th>\n",
       "      <th>z</th>\n",
       "      <th>confidence</th>\n",
       "      <th>timestamp</th>\n",
       "    </tr>\n",
       "  </thead>\n",
       "  <tbody>\n",
       "    <tr>\n",
       "      <th>0</th>\n",
       "      <td>1</td>\n",
       "      <td>99</td>\n",
       "      <td>-347</td>\n",
       "      <td>390</td>\n",
       "      <td>908</td>\n",
       "      <td>0.53316</td>\n",
       "      <td>1.624388e+09</td>\n",
       "    </tr>\n",
       "    <tr>\n",
       "      <th>1</th>\n",
       "      <td>2</td>\n",
       "      <td>22</td>\n",
       "      <td>-347</td>\n",
       "      <td>390</td>\n",
       "      <td>908</td>\n",
       "      <td>0.53316</td>\n",
       "      <td>1.624388e+09</td>\n",
       "    </tr>\n",
       "    <tr>\n",
       "      <th>2</th>\n",
       "      <td>3</td>\n",
       "      <td>22</td>\n",
       "      <td>-347</td>\n",
       "      <td>390</td>\n",
       "      <td>908</td>\n",
       "      <td>0.53316</td>\n",
       "      <td>1.624388e+09</td>\n",
       "    </tr>\n",
       "    <tr>\n",
       "      <th>3</th>\n",
       "      <td>4</td>\n",
       "      <td>22</td>\n",
       "      <td>-347</td>\n",
       "      <td>390</td>\n",
       "      <td>908</td>\n",
       "      <td>0.53316</td>\n",
       "      <td>1.624388e+09</td>\n",
       "    </tr>\n",
       "  </tbody>\n",
       "</table>\n",
       "</div>"
      ],
      "text/plain": [
       "   stroke_number  frame_number    x    y    z  confidence     timestamp\n",
       "0              1            99 -347  390  908     0.53316  1.624388e+09\n",
       "1              2            22 -347  390  908     0.53316  1.624388e+09\n",
       "2              3            22 -347  390  908     0.53316  1.624388e+09\n",
       "3              4            22 -347  390  908     0.53316  1.624388e+09"
      ]
     },
     "execution_count": 58,
     "metadata": {},
     "output_type": "execute_result"
    }
   ],
   "source": [
    "right_bounces"
   ]
  },
  {
   "cell_type": "code",
   "execution_count": 48,
   "id": "cca46b23",
   "metadata": {},
   "outputs": [
    {
     "name": "stdout",
     "output_type": "stream",
     "text": [
      "stroke_number    1.000000e+00\n",
      "frame_number     9.900000e+01\n",
      "x               -3.470000e+02\n",
      "y                3.900000e+02\n",
      "z                9.080000e+02\n",
      "confidence       5.331602e-01\n",
      "timestamp        1.624388e+09\n",
      "Name: 0, dtype: float64\n"
     ]
    }
   ],
   "source": [
    "for i in right_bounces.iterrows():\n",
    "#     print(i[1]['x'], i[0])\n",
    "    print(i[1])\n",
    "    break"
   ]
  },
  {
   "cell_type": "code",
   "execution_count": 63,
   "id": "2a99787c",
   "metadata": {},
   "outputs": [
    {
     "data": {
      "text/plain": [
       "6"
      ]
     },
     "execution_count": 63,
     "metadata": {},
     "output_type": "execute_result"
    }
   ],
   "source": [
    "1<<1 | 1<<2"
   ]
  },
  {
   "cell_type": "code",
   "execution_count": null,
   "id": "9bbd24f2",
   "metadata": {},
   "outputs": [],
   "source": []
  }
 ],
 "metadata": {
  "kernelspec": {
   "display_name": "Python 3",
   "language": "python",
   "name": "python3"
  },
  "language_info": {
   "codemirror_mode": {
    "name": "ipython",
    "version": 3
   },
   "file_extension": ".py",
   "mimetype": "text/x-python",
   "name": "python",
   "nbconvert_exporter": "python",
   "pygments_lexer": "ipython3",
   "version": "3.9.6"
  }
 },
 "nbformat": 4,
 "nbformat_minor": 5
}
